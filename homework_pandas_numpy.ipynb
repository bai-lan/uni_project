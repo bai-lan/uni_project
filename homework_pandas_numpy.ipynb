{
 "cells": [
  {
   "cell_type": "markdown",
   "id": "b2bc3227",
   "metadata": {},
   "source": [
    "**Python Programming_Homework**\n",
    "\n",
    "(a)-(c) code below:"
   ]
  },
  {
   "cell_type": "code",
   "execution_count": 1,
   "id": "cd1aead5",
   "metadata": {
    "scrolled": true
   },
   "outputs": [],
   "source": [
    "import pandas as pd\n",
    "import numpy as np\n",
    "# import inflect"
   ]
  },
  {
   "cell_type": "code",
   "execution_count": 2,
   "id": "4669d5a3",
   "metadata": {},
   "outputs": [],
   "source": [
    "moviesData = '/Users/bailan/Movies.csv'"
   ]
  },
  {
   "cell_type": "code",
   "execution_count": 3,
   "id": "80faec97",
   "metadata": {},
   "outputs": [
    {
     "data": {
      "text/html": [
       "<div>\n",
       "<style scoped>\n",
       "    .dataframe tbody tr th:only-of-type {\n",
       "        vertical-align: middle;\n",
       "    }\n",
       "\n",
       "    .dataframe tbody tr th {\n",
       "        vertical-align: top;\n",
       "    }\n",
       "\n",
       "    .dataframe thead th {\n",
       "        text-align: right;\n",
       "    }\n",
       "</style>\n",
       "<table border=\"1\" class=\"dataframe\">\n",
       "  <thead>\n",
       "    <tr style=\"text-align: right;\">\n",
       "      <th></th>\n",
       "      <th>Film</th>\n",
       "      <th>Studio</th>\n",
       "      <th>TopGross</th>\n",
       "      <th>OpenQuarter</th>\n",
       "    </tr>\n",
       "  </thead>\n",
       "  <tbody>\n",
       "    <tr>\n",
       "      <th>0</th>\n",
       "      <td>The Last Jedi</td>\n",
       "      <td>Disney</td>\n",
       "      <td>620</td>\n",
       "      <td>4</td>\n",
       "    </tr>\n",
       "    <tr>\n",
       "      <th>1</th>\n",
       "      <td>Beauty and the Beast</td>\n",
       "      <td>Disney</td>\n",
       "      <td>504</td>\n",
       "      <td>1</td>\n",
       "    </tr>\n",
       "    <tr>\n",
       "      <th>2</th>\n",
       "      <td>Wonder Woman</td>\n",
       "      <td>Warner</td>\n",
       "      <td>413</td>\n",
       "      <td>2</td>\n",
       "    </tr>\n",
       "    <tr>\n",
       "      <th>3</th>\n",
       "      <td>Jumanji</td>\n",
       "      <td>Sony</td>\n",
       "      <td>405</td>\n",
       "      <td>4</td>\n",
       "    </tr>\n",
       "    <tr>\n",
       "      <th>4</th>\n",
       "      <td>Guardians of the Galaxy</td>\n",
       "      <td>Disney</td>\n",
       "      <td>390</td>\n",
       "      <td>2</td>\n",
       "    </tr>\n",
       "  </tbody>\n",
       "</table>\n",
       "</div>"
      ],
      "text/plain": [
       "                      Film  Studio  TopGross  OpenQuarter\n",
       "0            The Last Jedi  Disney       620            4\n",
       "1     Beauty and the Beast  Disney       504            1\n",
       "2             Wonder Woman  Warner       413            2\n",
       "3                  Jumanji    Sony       405            4\n",
       "4  Guardians of the Galaxy  Disney       390            2"
      ]
     },
     "execution_count": 3,
     "metadata": {},
     "output_type": "execute_result"
    }
   ],
   "source": [
    "moviesData = pd.read_csv(moviesData)\n",
    "moviesData.head()"
   ]
  },
  {
   "cell_type": "code",
   "execution_count": 4,
   "id": "8b241954",
   "metadata": {},
   "outputs": [
    {
     "name": "stdout",
     "output_type": "stream",
     "text": [
      "<class 'pandas.core.frame.DataFrame'>\n",
      "RangeIndex: 15 entries, 0 to 14\n",
      "Data columns (total 4 columns):\n",
      " #   Column       Non-Null Count  Dtype \n",
      "---  ------       --------------  ----- \n",
      " 0   Film         15 non-null     object\n",
      " 1   Studio       15 non-null     object\n",
      " 2   TopGross     15 non-null     int64 \n",
      " 3   OpenQuarter  15 non-null     int64 \n",
      "dtypes: int64(2), object(2)\n",
      "memory usage: 608.0+ bytes\n"
     ]
    }
   ],
   "source": [
    "moviesData.info()"
   ]
  },
  {
   "cell_type": "code",
   "execution_count": 5,
   "id": "20a0cee4",
   "metadata": {},
   "outputs": [
    {
     "data": {
      "text/plain": [
       "Film           0\n",
       "Studio         0\n",
       "TopGross       0\n",
       "OpenQuarter    0\n",
       "dtype: int64"
      ]
     },
     "execution_count": 5,
     "metadata": {},
     "output_type": "execute_result"
    }
   ],
   "source": [
    "moviesData.isnull().sum()"
   ]
  },
  {
   "cell_type": "code",
   "execution_count": 6,
   "id": "51ba2ba5",
   "metadata": {},
   "outputs": [
    {
     "data": {
      "text/plain": [
       "Film             object\n",
       "Studio         category\n",
       "TopGross          int64\n",
       "OpenQuarter       int64\n",
       "dtype: object"
      ]
     },
     "execution_count": 6,
     "metadata": {},
     "output_type": "execute_result"
    }
   ],
   "source": [
    "moviesData[\"Studio\"] =moviesData[\"Studio\"].astype('category')\n",
    "moviesData.dtypes"
   ]
  },
  {
   "cell_type": "code",
   "execution_count": 19,
   "id": "b3f65341",
   "metadata": {},
   "outputs": [
    {
     "data": {
      "text/html": [
       "<div>\n",
       "<style scoped>\n",
       "    .dataframe tbody tr th:only-of-type {\n",
       "        vertical-align: middle;\n",
       "    }\n",
       "\n",
       "    .dataframe tbody tr th {\n",
       "        vertical-align: top;\n",
       "    }\n",
       "\n",
       "    .dataframe thead th {\n",
       "        text-align: right;\n",
       "    }\n",
       "</style>\n",
       "<table border=\"1\" class=\"dataframe\">\n",
       "  <thead>\n",
       "    <tr style=\"text-align: right;\">\n",
       "      <th></th>\n",
       "      <th>Film</th>\n",
       "      <th>Studio</th>\n",
       "      <th>TopGross</th>\n",
       "      <th>OpenQuarter</th>\n",
       "    </tr>\n",
       "  </thead>\n",
       "  <tbody>\n",
       "    <tr>\n",
       "      <th>0</th>\n",
       "      <td>The Last Jedi</td>\n",
       "      <td>Disney</td>\n",
       "      <td>620</td>\n",
       "      <td>4</td>\n",
       "    </tr>\n",
       "    <tr>\n",
       "      <th>1</th>\n",
       "      <td>Beauty and the Beast</td>\n",
       "      <td>Disney</td>\n",
       "      <td>504</td>\n",
       "      <td>1st</td>\n",
       "    </tr>\n",
       "    <tr>\n",
       "      <th>2</th>\n",
       "      <td>Wonder Woman</td>\n",
       "      <td>Warner</td>\n",
       "      <td>413</td>\n",
       "      <td>2</td>\n",
       "    </tr>\n",
       "    <tr>\n",
       "      <th>3</th>\n",
       "      <td>Jumanji</td>\n",
       "      <td>Sony</td>\n",
       "      <td>405</td>\n",
       "      <td>4</td>\n",
       "    </tr>\n",
       "    <tr>\n",
       "      <th>4</th>\n",
       "      <td>Guardians of the Galaxy</td>\n",
       "      <td>Disney</td>\n",
       "      <td>390</td>\n",
       "      <td>2</td>\n",
       "    </tr>\n",
       "    <tr>\n",
       "      <th>5</th>\n",
       "      <td>Spider-Man</td>\n",
       "      <td>Sony</td>\n",
       "      <td>334</td>\n",
       "      <td>3</td>\n",
       "    </tr>\n",
       "    <tr>\n",
       "      <th>6</th>\n",
       "      <td>It</td>\n",
       "      <td>Warner</td>\n",
       "      <td>328</td>\n",
       "      <td>3</td>\n",
       "    </tr>\n",
       "    <tr>\n",
       "      <th>7</th>\n",
       "      <td>Thor: Ragnarok</td>\n",
       "      <td>Disney</td>\n",
       "      <td>315</td>\n",
       "      <td>4</td>\n",
       "    </tr>\n",
       "    <tr>\n",
       "      <th>8</th>\n",
       "      <td>Despicable Me 3</td>\n",
       "      <td>Universal</td>\n",
       "      <td>265</td>\n",
       "      <td>2</td>\n",
       "    </tr>\n",
       "    <tr>\n",
       "      <th>9</th>\n",
       "      <td>Justice League</td>\n",
       "      <td>Warner</td>\n",
       "      <td>229</td>\n",
       "      <td>4</td>\n",
       "    </tr>\n",
       "    <tr>\n",
       "      <th>10</th>\n",
       "      <td>Logan</td>\n",
       "      <td>Fox</td>\n",
       "      <td>226</td>\n",
       "      <td>1st</td>\n",
       "    </tr>\n",
       "    <tr>\n",
       "      <th>11</th>\n",
       "      <td>The Fate of the Furious</td>\n",
       "      <td>Universal</td>\n",
       "      <td>226</td>\n",
       "      <td>2</td>\n",
       "    </tr>\n",
       "    <tr>\n",
       "      <th>12</th>\n",
       "      <td>Coco</td>\n",
       "      <td>Disney</td>\n",
       "      <td>210</td>\n",
       "      <td>4</td>\n",
       "    </tr>\n",
       "    <tr>\n",
       "      <th>13</th>\n",
       "      <td>Dunkirk</td>\n",
       "      <td>Warner</td>\n",
       "      <td>188</td>\n",
       "      <td>3</td>\n",
       "    </tr>\n",
       "    <tr>\n",
       "      <th>14</th>\n",
       "      <td>Get Out</td>\n",
       "      <td>Universal</td>\n",
       "      <td>176</td>\n",
       "      <td>1st</td>\n",
       "    </tr>\n",
       "  </tbody>\n",
       "</table>\n",
       "</div>"
      ],
      "text/plain": [
       "                       Film     Studio  TopGross OpenQuarter\n",
       "0             The Last Jedi     Disney       620           4\n",
       "1      Beauty and the Beast     Disney       504         1st\n",
       "2              Wonder Woman     Warner       413           2\n",
       "3                   Jumanji       Sony       405           4\n",
       "4   Guardians of the Galaxy     Disney       390           2\n",
       "5                Spider-Man       Sony       334           3\n",
       "6                        It     Warner       328           3\n",
       "7            Thor: Ragnarok     Disney       315           4\n",
       "8           Despicable Me 3  Universal       265           2\n",
       "9            Justice League     Warner       229           4\n",
       "10                    Logan        Fox       226         1st\n",
       "11  The Fate of the Furious  Universal       226           2\n",
       "12                     Coco     Disney       210           4\n",
       "13                  Dunkirk     Warner       188           3\n",
       "14                  Get Out  Universal       176         1st"
      ]
     },
     "execution_count": 19,
     "metadata": {},
     "output_type": "execute_result"
    }
   ],
   "source": [
    "moviesData.astype({'OpenQuarter': 'category'})"
   ]
  },
  {
   "cell_type": "markdown",
   "id": "6617b87b",
   "metadata": {},
   "source": [
    "(d) code below:"
   ]
  },
  {
   "cell_type": "code",
   "execution_count": 20,
   "id": "2c8d70be",
   "metadata": {},
   "outputs": [
    {
     "data": {
      "text/html": [
       "<div>\n",
       "<style scoped>\n",
       "    .dataframe tbody tr th:only-of-type {\n",
       "        vertical-align: middle;\n",
       "    }\n",
       "\n",
       "    .dataframe tbody tr th {\n",
       "        vertical-align: top;\n",
       "    }\n",
       "\n",
       "    .dataframe thead th {\n",
       "        text-align: right;\n",
       "    }\n",
       "</style>\n",
       "<table border=\"1\" class=\"dataframe\">\n",
       "  <thead>\n",
       "    <tr style=\"text-align: right;\">\n",
       "      <th></th>\n",
       "      <th>Film</th>\n",
       "      <th>Studio</th>\n",
       "      <th>TopGross</th>\n",
       "      <th>OpenQuarter</th>\n",
       "    </tr>\n",
       "  </thead>\n",
       "  <tbody>\n",
       "    <tr>\n",
       "      <th>0</th>\n",
       "      <td>The Last Jedi</td>\n",
       "      <td>Disney</td>\n",
       "      <td>620</td>\n",
       "      <td>4th</td>\n",
       "    </tr>\n",
       "    <tr>\n",
       "      <th>1</th>\n",
       "      <td>Beauty and the Beast</td>\n",
       "      <td>Disney</td>\n",
       "      <td>504</td>\n",
       "      <td>1st</td>\n",
       "    </tr>\n",
       "    <tr>\n",
       "      <th>2</th>\n",
       "      <td>Wonder Woman</td>\n",
       "      <td>Warner</td>\n",
       "      <td>413</td>\n",
       "      <td>2nd</td>\n",
       "    </tr>\n",
       "    <tr>\n",
       "      <th>3</th>\n",
       "      <td>Jumanji</td>\n",
       "      <td>Sony</td>\n",
       "      <td>405</td>\n",
       "      <td>4th</td>\n",
       "    </tr>\n",
       "    <tr>\n",
       "      <th>4</th>\n",
       "      <td>Guardians of the Galaxy</td>\n",
       "      <td>Disney</td>\n",
       "      <td>390</td>\n",
       "      <td>2nd</td>\n",
       "    </tr>\n",
       "    <tr>\n",
       "      <th>5</th>\n",
       "      <td>Spider-Man</td>\n",
       "      <td>Sony</td>\n",
       "      <td>334</td>\n",
       "      <td>3rd</td>\n",
       "    </tr>\n",
       "    <tr>\n",
       "      <th>6</th>\n",
       "      <td>It</td>\n",
       "      <td>Warner</td>\n",
       "      <td>328</td>\n",
       "      <td>3rd</td>\n",
       "    </tr>\n",
       "    <tr>\n",
       "      <th>7</th>\n",
       "      <td>Thor: Ragnarok</td>\n",
       "      <td>Disney</td>\n",
       "      <td>315</td>\n",
       "      <td>4th</td>\n",
       "    </tr>\n",
       "    <tr>\n",
       "      <th>8</th>\n",
       "      <td>Despicable Me 3</td>\n",
       "      <td>Universal</td>\n",
       "      <td>265</td>\n",
       "      <td>2nd</td>\n",
       "    </tr>\n",
       "    <tr>\n",
       "      <th>9</th>\n",
       "      <td>Justice League</td>\n",
       "      <td>Warner</td>\n",
       "      <td>229</td>\n",
       "      <td>4th</td>\n",
       "    </tr>\n",
       "    <tr>\n",
       "      <th>10</th>\n",
       "      <td>Logan</td>\n",
       "      <td>Fox</td>\n",
       "      <td>226</td>\n",
       "      <td>1st</td>\n",
       "    </tr>\n",
       "    <tr>\n",
       "      <th>11</th>\n",
       "      <td>The Fate of the Furious</td>\n",
       "      <td>Universal</td>\n",
       "      <td>226</td>\n",
       "      <td>2nd</td>\n",
       "    </tr>\n",
       "    <tr>\n",
       "      <th>12</th>\n",
       "      <td>Coco</td>\n",
       "      <td>Disney</td>\n",
       "      <td>210</td>\n",
       "      <td>4th</td>\n",
       "    </tr>\n",
       "    <tr>\n",
       "      <th>13</th>\n",
       "      <td>Dunkirk</td>\n",
       "      <td>Warner</td>\n",
       "      <td>188</td>\n",
       "      <td>3rd</td>\n",
       "    </tr>\n",
       "    <tr>\n",
       "      <th>14</th>\n",
       "      <td>Get Out</td>\n",
       "      <td>Universal</td>\n",
       "      <td>176</td>\n",
       "      <td>1st</td>\n",
       "    </tr>\n",
       "  </tbody>\n",
       "</table>\n",
       "</div>"
      ],
      "text/plain": [
       "                       Film     Studio  TopGross OpenQuarter\n",
       "0             The Last Jedi     Disney       620         4th\n",
       "1      Beauty and the Beast     Disney       504         1st\n",
       "2              Wonder Woman     Warner       413         2nd\n",
       "3                   Jumanji       Sony       405         4th\n",
       "4   Guardians of the Galaxy     Disney       390         2nd\n",
       "5                Spider-Man       Sony       334         3rd\n",
       "6                        It     Warner       328         3rd\n",
       "7            Thor: Ragnarok     Disney       315         4th\n",
       "8           Despicable Me 3  Universal       265         2nd\n",
       "9            Justice League     Warner       229         4th\n",
       "10                    Logan        Fox       226         1st\n",
       "11  The Fate of the Furious  Universal       226         2nd\n",
       "12                     Coco     Disney       210         4th\n",
       "13                  Dunkirk     Warner       188         3rd\n",
       "14                  Get Out  Universal       176         1st"
      ]
     },
     "execution_count": 20,
     "metadata": {},
     "output_type": "execute_result"
    }
   ],
   "source": [
    "# moviesData['OpenQuarter'] = moviesData['OpenQuarter'].replace(to_replace=1, value='1st')\n",
    "moviesData.replace({'OpenQuarter' : { 1 : '1st', 2 : '2nd', 3 : '3rd',4:'4th' }})"
   ]
  },
  {
   "cell_type": "code",
   "execution_count": 21,
   "id": "8cc6ab0d",
   "metadata": {},
   "outputs": [],
   "source": [
    "moviesData['OpenQuarter'] =moviesData['OpenQuarter'].astype('category')\n",
    "# moviesData.dtypes"
   ]
  },
  {
   "cell_type": "code",
   "execution_count": 17,
   "id": "dcb4bd6a",
   "metadata": {},
   "outputs": [],
   "source": [
    "#dummy variable\n",
    "#movies_dummy = pd.get_dummies(moviesData, columns=[\"OpenQuarter\"])"
   ]
  },
  {
   "cell_type": "code",
   "execution_count": 18,
   "id": "81030596",
   "metadata": {},
   "outputs": [],
   "source": [
    "#movies_dummy.rename(columns={\"OpenQuarter_1\": \"1st\", \"OpenQuarter_2\": \"2nd\",\"OpenQuarter_3\": \"3rd\",\"OpenQuarter_4\": \"4th\"})"
   ]
  },
  {
   "cell_type": "markdown",
   "id": "8953acc8",
   "metadata": {},
   "source": [
    "(e)-(f) code below:\n",
    "\n",
    "5 Disney movies were there in the top 15 grossing\n",
    "\n",
    "4 Disney movies were there in the top 10 grossing"
   ]
  },
  {
   "cell_type": "code",
   "execution_count": 32,
   "id": "7fbbaf22",
   "metadata": {},
   "outputs": [],
   "source": [
    "Top = moviesData.sort_values('TopGross',ascending=False)[['Studio']]"
   ]
  },
  {
   "cell_type": "code",
   "execution_count": 45,
   "id": "b6c9d9f7",
   "metadata": {},
   "outputs": [
    {
     "data": {
      "text/plain": [
       "5"
      ]
     },
     "execution_count": 45,
     "metadata": {},
     "output_type": "execute_result"
    }
   ],
   "source": [
    "Top.Studio[:15][Top.Studio == 'Disney'].count()"
   ]
  },
  {
   "cell_type": "code",
   "execution_count": 41,
   "id": "5fc8ab07",
   "metadata": {},
   "outputs": [
    {
     "data": {
      "text/plain": [
       "4"
      ]
     },
     "execution_count": 41,
     "metadata": {},
     "output_type": "execute_result"
    }
   ],
   "source": [
    "Top.Studio[:10][Top.Studio == 'Disney'].count()"
   ]
  },
  {
   "cell_type": "code",
   "execution_count": 51,
   "id": "41a9a5f4",
   "metadata": {},
   "outputs": [
    {
     "data": {
      "text/plain": [
       "Studio    5\n",
       "dtype: int64"
      ]
     },
     "execution_count": 51,
     "metadata": {},
     "output_type": "execute_result"
    }
   ],
   "source": [
    "###additional selfnote\n",
    "def check(item):\n",
    "    if (item.gross > 100)\n",
    "        return True\n",
    "    if (fseoih and fosiejga)\n",
    "        return True\n",
    "    return False\n",
    "\n",
    "    return item.Studio == 'Disney'\n",
    "Top[check].count()"
   ]
  },
  {
   "cell_type": "markdown",
   "id": "08e48a0b",
   "metadata": {},
   "source": [
    "(g)-(i) code below:\n",
    "\n",
    "Disney has earned 2039 from the movies in the top 15 grossing\n",
    "\n",
    "Disney has earned 1829 from the movies in the top 10 grossing\n",
    "\n",
    "Disney has earned 1514 from the movies in the top 5 grossing"
   ]
  },
  {
   "cell_type": "code",
   "execution_count": 53,
   "id": "33bd091e",
   "metadata": {},
   "outputs": [
    {
     "data": {
      "text/html": [
       "<div>\n",
       "<style scoped>\n",
       "    .dataframe tbody tr th:only-of-type {\n",
       "        vertical-align: middle;\n",
       "    }\n",
       "\n",
       "    .dataframe tbody tr th {\n",
       "        vertical-align: top;\n",
       "    }\n",
       "\n",
       "    .dataframe thead th {\n",
       "        text-align: right;\n",
       "    }\n",
       "</style>\n",
       "<table border=\"1\" class=\"dataframe\">\n",
       "  <thead>\n",
       "    <tr style=\"text-align: right;\">\n",
       "      <th></th>\n",
       "      <th>TopGross</th>\n",
       "      <th>Studio</th>\n",
       "    </tr>\n",
       "  </thead>\n",
       "  <tbody>\n",
       "    <tr>\n",
       "      <th>0</th>\n",
       "      <td>620</td>\n",
       "      <td>Disney</td>\n",
       "    </tr>\n",
       "    <tr>\n",
       "      <th>1</th>\n",
       "      <td>504</td>\n",
       "      <td>Disney</td>\n",
       "    </tr>\n",
       "    <tr>\n",
       "      <th>2</th>\n",
       "      <td>413</td>\n",
       "      <td>Warner</td>\n",
       "    </tr>\n",
       "    <tr>\n",
       "      <th>3</th>\n",
       "      <td>405</td>\n",
       "      <td>Sony</td>\n",
       "    </tr>\n",
       "    <tr>\n",
       "      <th>4</th>\n",
       "      <td>390</td>\n",
       "      <td>Disney</td>\n",
       "    </tr>\n",
       "    <tr>\n",
       "      <th>5</th>\n",
       "      <td>334</td>\n",
       "      <td>Sony</td>\n",
       "    </tr>\n",
       "    <tr>\n",
       "      <th>6</th>\n",
       "      <td>328</td>\n",
       "      <td>Warner</td>\n",
       "    </tr>\n",
       "    <tr>\n",
       "      <th>7</th>\n",
       "      <td>315</td>\n",
       "      <td>Disney</td>\n",
       "    </tr>\n",
       "    <tr>\n",
       "      <th>8</th>\n",
       "      <td>265</td>\n",
       "      <td>Universal</td>\n",
       "    </tr>\n",
       "    <tr>\n",
       "      <th>9</th>\n",
       "      <td>229</td>\n",
       "      <td>Warner</td>\n",
       "    </tr>\n",
       "    <tr>\n",
       "      <th>10</th>\n",
       "      <td>226</td>\n",
       "      <td>Fox</td>\n",
       "    </tr>\n",
       "    <tr>\n",
       "      <th>11</th>\n",
       "      <td>226</td>\n",
       "      <td>Universal</td>\n",
       "    </tr>\n",
       "    <tr>\n",
       "      <th>12</th>\n",
       "      <td>210</td>\n",
       "      <td>Disney</td>\n",
       "    </tr>\n",
       "    <tr>\n",
       "      <th>13</th>\n",
       "      <td>188</td>\n",
       "      <td>Warner</td>\n",
       "    </tr>\n",
       "    <tr>\n",
       "      <th>14</th>\n",
       "      <td>176</td>\n",
       "      <td>Universal</td>\n",
       "    </tr>\n",
       "  </tbody>\n",
       "</table>\n",
       "</div>"
      ],
      "text/plain": [
       "    TopGross     Studio\n",
       "0        620     Disney\n",
       "1        504     Disney\n",
       "2        413     Warner\n",
       "3        405       Sony\n",
       "4        390     Disney\n",
       "5        334       Sony\n",
       "6        328     Warner\n",
       "7        315     Disney\n",
       "8        265  Universal\n",
       "9        229     Warner\n",
       "10       226        Fox\n",
       "11       226  Universal\n",
       "12       210     Disney\n",
       "13       188     Warner\n",
       "14       176  Universal"
      ]
     },
     "execution_count": 53,
     "metadata": {},
     "output_type": "execute_result"
    }
   ],
   "source": [
    "TopG = moviesData.sort_values('TopGross',ascending=False)[['TopGross','Studio']]\n",
    "TopG.TopGross[:15][Top.Studio == 'Disney'].sum()\n",
    "# TopG"
   ]
  },
  {
   "cell_type": "code",
   "execution_count": 54,
   "id": "f455e50c",
   "metadata": {},
   "outputs": [
    {
     "data": {
      "text/plain": [
       "1829"
      ]
     },
     "execution_count": 54,
     "metadata": {},
     "output_type": "execute_result"
    }
   ],
   "source": [
    "TopG.TopGross[:10][Top.Studio == 'Disney'].sum()"
   ]
  },
  {
   "cell_type": "code",
   "execution_count": 55,
   "id": "961efc91",
   "metadata": {},
   "outputs": [
    {
     "data": {
      "text/plain": [
       "1514"
      ]
     },
     "execution_count": 55,
     "metadata": {},
     "output_type": "execute_result"
    }
   ],
   "source": [
    "TopG.TopGross[:5][Top.Studio == 'Disney'].sum()"
   ]
  },
  {
   "cell_type": "markdown",
   "id": "2035f82a",
   "metadata": {},
   "source": [
    "(j)-(n) code below:\n",
    "\n",
    "j. 4 Warner movies were there in the top 15 grossing. \n",
    "\n",
    "k. 3 Warner movies were there in the top 10 grossing. \n",
    "\n",
    "l. Warner has earned 1158 from the movies in the top 15 grossing\n",
    "\n",
    "m. Warner has earned 970 from the movies in the top 10 grossing\n",
    "\n",
    "n. Warner has earned 413 from the movies in the top 5 grossing"
   ]
  },
  {
   "cell_type": "code",
   "execution_count": 56,
   "id": "5ed23ee1",
   "metadata": {},
   "outputs": [
    {
     "data": {
      "text/plain": [
       "4"
      ]
     },
     "execution_count": 56,
     "metadata": {},
     "output_type": "execute_result"
    }
   ],
   "source": [
    "Top.Studio[:15][Top.Studio == 'Warner'].count()"
   ]
  },
  {
   "cell_type": "code",
   "execution_count": 57,
   "id": "5c2c6e4b",
   "metadata": {},
   "outputs": [
    {
     "data": {
      "text/plain": [
       "3"
      ]
     },
     "execution_count": 57,
     "metadata": {},
     "output_type": "execute_result"
    }
   ],
   "source": [
    "Top.Studio[:10][Top.Studio == 'Warner'].count()"
   ]
  },
  {
   "cell_type": "code",
   "execution_count": 58,
   "id": "abe92116",
   "metadata": {},
   "outputs": [
    {
     "data": {
      "text/plain": [
       "1158"
      ]
     },
     "execution_count": 58,
     "metadata": {},
     "output_type": "execute_result"
    }
   ],
   "source": [
    "TopG.TopGross[:15][Top.Studio == 'Warner'].sum()"
   ]
  },
  {
   "cell_type": "code",
   "execution_count": 59,
   "id": "3afb6964",
   "metadata": {},
   "outputs": [
    {
     "data": {
      "text/plain": [
       "970"
      ]
     },
     "execution_count": 59,
     "metadata": {},
     "output_type": "execute_result"
    }
   ],
   "source": [
    "TopG.TopGross[:10][Top.Studio == 'Warner'].sum()"
   ]
  },
  {
   "cell_type": "code",
   "execution_count": 60,
   "id": "4bb6a4f5",
   "metadata": {},
   "outputs": [
    {
     "data": {
      "text/plain": [
       "413"
      ]
     },
     "execution_count": 60,
     "metadata": {},
     "output_type": "execute_result"
    }
   ],
   "source": [
    "TopG.TopGross[:5][Top.Studio == 'Warner'].sum()"
   ]
  },
  {
   "cell_type": "markdown",
   "id": "31e6b41c",
   "metadata": {},
   "source": [
    "(o)-(p) code below:"
   ]
  },
  {
   "cell_type": "code",
   "execution_count": 65,
   "id": "08183050",
   "metadata": {},
   "outputs": [
    {
     "data": {
      "text/plain": [
       "0        Disney\n",
       "2        Warner\n",
       "3          Sony\n",
       "8     Universal\n",
       "10          Fox\n",
       "Name: Studio, dtype: category\n",
       "Categories (5, object): ['Disney', 'Fox', 'Sony', 'Universal', 'Warner']"
      ]
     },
     "execution_count": 65,
     "metadata": {},
     "output_type": "execute_result"
    }
   ],
   "source": [
    "distinct = moviesData.Studio.drop_duplicates()\n",
    "distinct"
   ]
  },
  {
   "cell_type": "code",
   "execution_count": 69,
   "id": "79e3e1e8",
   "metadata": {},
   "outputs": [],
   "source": [
    "# n = 15\n",
    "def graph(n):   \n",
    "    index = ['Disney', 'Fox', 'Sony', 'Universal', 'Warner']\n",
    "    number_movies = []\n",
    "    for num in index:\n",
    "        a = Top.Studio[:n][Top.Studio == num].count()\n",
    "        number_movies.append(a)\n",
    "    df = pd.DataFrame({'number_movies': number_movies\n",
    "                }, index=index)\n",
    "    ax = df.plot.bar(rot=0)\n",
    "# number_movies"
   ]
  },
  {
   "cell_type": "code",
   "execution_count": 71,
   "id": "38cf1e67",
   "metadata": {},
   "outputs": [
    {
     "data": {
      "image/png": "[encoded data removed]",
      "text/plain": [
       "<Figure size 432x288 with 1 Axes>"
      ]
     },
     "metadata": {
      "needs_background": "light"
     },
     "output_type": "display_data"
    },
    {
     "data": {
      "image/png": "[encoded data removed]",
      "text/plain": [
       "<Figure size 432x288 with 1 Axes>"
      ]
     },
     "metadata": {
      "needs_background": "light"
     },
     "output_type": "display_data"
    }
   ],
   "source": [
    "###additional selfnote\n",
    "# speed = [0.1, 17.5, 40, 48, 52, 69, 88]\n",
    "# lifespan = [2, 8, 70, 1.5, 25, 12, 28]\n",
    "# index = ['snail', 'pig', 'elephant',\n",
    "#          'rabbit', 'giraffe', 'coyote', 'horse']\n",
    "# df = pd.DataFrame({'speed': speed,\n",
    "#                    'lifespan': lifespan}, index=index)\n",
    "# ax = df.plot.bar(rot=0)\n",
    "graph(15)\n",
    "graph(10)\n"
   ]
  },
  {
   "cell_type": "code",
   "execution_count": null,
   "id": "04f9808f",
   "metadata": {},
   "outputs": [],
   "source": []
  }
 ],
 "metadata": {
  "kernelspec": {
   "display_name": "Python 3",
   "language": "python",
   "name": "python3"
  },
  "language_info": {
   "codemirror_mode": {
    "name": "ipython",
    "version": 3
   },
   "file_extension": ".py",
   "mimetype": "text/x-python",
   "name": "python",
   "nbconvert_exporter": "python",
   "pygments_lexer": "ipython3",
   "version": "3.8.8"
  }
 },
 "nbformat": 4,
 "nbformat_minor": 5
}
